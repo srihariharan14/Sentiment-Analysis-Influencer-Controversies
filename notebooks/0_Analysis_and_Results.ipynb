{
 "cells": [
  {
   "cell_type": "markdown",
   "id": "a7486b56",
   "metadata": {},
   "source": [
    "2.0 Sentiment Analysis and Topic Modelling Results\n",
    "\n",
    "This notebook loads the processed data, visualizes the sentiment findings, and performs the LDA Topic Modelling and keyword clustering."
   ]
  },
  {
   "cell_type": "markdown",
   "id": "136ba44c",
   "metadata": {},
   "source": [
    "1. Load Data and Setup"
   ]
  },
  {
   "cell_type": "code",
   "execution_count": null,
   "id": "3cf299c2",
   "metadata": {
    "vscode": {
     "languageId": "plaintext"
    }
   },
   "outputs": [],
   "source": [
    "import pandas as pd\n",
    "import matplotlib.pyplot as plt\n",
    "import seaborn as sns\n",
    "import numpy as np\n",
    "\n",
    "# Import the Topic Modelling module\n",
    "from src.topic_modeler import get_lda_topics\n",
    "\n",
    "# Load the processed data\n",
    "PROCESSED_FILE_NAME = \"tarte_processed_sentiment.csv\"\n",
    "df = pd.read_csv(f'data/processed/{PROCESSED_FILE_NAME}')\n",
    "\n",
    "sns.set_theme(style=\"whitegrid\")\n",
    "print(f\"Data loaded successfully. Total comments analyzed: {len(df)}\")\n"
   ]
  },
  {
   "cell_type": "markdown",
   "id": "ae698612",
   "metadata": {},
   "source": [
    "2. Comparative Sentiment Visualization\n",
    "\n",
    "We compare VADER and TextBlob, and categorize VADER scores for clear visualization of sentiment distribution."
   ]
  },
  {
   "cell_type": "code",
   "execution_count": null,
   "id": "70e5e286",
   "metadata": {
    "vscode": {
     "languageId": "plaintext"
    }
   },
   "outputs": [],
   "source": [
    "# Define VADER categories for visualization\n",
    "def categorize_vader(score):\n",
    "    if score >= 0.05:\n",
    "        return 'Positive'\n",
    "    elif score <= -0.05:\n",
    "        return 'Negative'\n",
    "    else:\n",
    "        return 'Neutral'\n",
    "\n",
    "df['vader_sentiment'] = df['vader_compound'].apply(categorize_vader)\n",
    "\n",
    "# Create a figure with two subplots\n",
    "fig, axes = plt.subplots(1, 2, figsize=(16, 6))\n",
    "\n",
    "# Subplot 1: VADER Sentiment Distribution (Bar Chart)\n",
    "sns.countplot(x='vader_sentiment', data=df, order=['Negative', 'Neutral', 'Positive'], palette='viridis', ax=axes[0])\n",
    "axes[0].set_title('VADER Sentiment Distribution (Categorized)')\n",
    "axes[0].set_xlabel('Sentiment')\n",
    "axes[0].set_ylabel('Count')\n",
    "\n",
    "# Subplot 2: TextBlob Polarity Distribution (Histogram)\n",
    "sns.histplot(df['textblob_polarity'], bins=30, kde=True, color='indianred', ax=axes[1])\n",
    "axes[1].set_title('TextBlob Polarity Distribution (Continuous)')\n",
    "axes[1].set_xlabel('Polarity Score (-1.0 to +1.0)')\n",
    "axes[1].set_ylabel('Count')\n",
    "\n",
    "plt.tight_layout()\n",
    "plt.show()"
   ]
  },
  {
   "cell_type": "markdown",
   "id": "a4bd67bd",
   "metadata": {},
   "source": [
    "3. Sentiment vs. Engagement\n",
    "\n",
    "We explore if highly emotional comments lead to more engagement (likes)."
   ]
  },
  {
   "cell_type": "code",
   "execution_count": null,
   "id": "09c34422",
   "metadata": {
    "vscode": {
     "languageId": "plaintext"
    }
   },
   "outputs": [],
   "source": [
    "# Create a metric for absolute emotional strength\n",
    "df['vader_strength'] = np.abs(df['vader_compound'])\n",
    "\n",
    "plt.figure(figsize=(10, 6))\n",
    "sns.scatterplot(x='vader_strength', y='comment_likes', hue='vader_sentiment', data=df, palette='viridis', alpha=0.6)\n",
    "plt.title('Comment Engagement vs. Emotional Strength (VADER)')\n",
    "plt.xlabel('Absolute VADER Compound Score (Emotional Strength)')\n",
    "plt.ylabel('Comment Likes')\n",
    "plt.show()\n"
   ]
  },
  {
   "cell_type": "markdown",
   "id": "b7d4aa82",
   "metadata": {},
   "source": [
    "4. Topic Modelling and Keyword Clustering\n",
    "\n",
    "We run the Topic Modelling function to identify key themes in the public discussion."
   ]
  },
  {
   "cell_type": "code",
   "execution_count": null,
   "id": "69114be7",
   "metadata": {
    "vscode": {
     "languageId": "plaintext"
    }
   },
   "outputs": [],
   "source": [
    "# --- PARAMETERS ---\n",
    "N_TOPICS = 5\n",
    "N_TOP_WORDS = 8\n",
    "\n",
    "# Run the LDA model\n",
    "topic_results = get_lda_topics(df, \n",
    "                               text_column='clean_comment', \n",
    "                               n_topics=N_TOPICS, \n",
    "                               n_top_words=N_TOP_WORDS)\n",
    "\n",
    "print(f\"\\n--- Extracted Topics (LDA) ---\")\n",
    "print(topic_results)\n",
    "\n",
    "# Interpretation: \n",
    "# The topics reveal the common clusters of conversation, which might include \n",
    "# 'Brand Ethics', 'Influencer Loyalty/Support', 'Apology Critique', etc. \n",
    "# This fulfills the 'keyword clustering' requirement.\n"
   ]
  }
 ],
 "metadata": {
  "language_info": {
   "name": "python"
  }
 },
 "nbformat": 4,
 "nbformat_minor": 5
}
