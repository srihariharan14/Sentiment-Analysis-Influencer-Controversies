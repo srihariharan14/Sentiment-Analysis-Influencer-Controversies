{
 "cells": [
  {
   "cell_type": "markdown",
   "id": "d20d8859",
   "metadata": {},
   "source": [
    "1.0 Data Pipeline Execution and Initial EDA"
   ]
  },
  {
   "cell_type": "markdown",
   "id": "d5dbc206",
   "metadata": {},
   "source": [
    "This notebook executes the data scraping, cleaning, and initial sentiment scoring, preparing the dataset for detailed analysis."
   ]
  },
  {
   "cell_type": "markdown",
   "id": "702b5f6d",
   "metadata": {},
   "source": [
    "First, we ensure all necessary modules from our src folder are imported."
   ]
  },
  {
   "cell_type": "code",
   "execution_count": null,
   "id": "aedfd88a",
   "metadata": {
    "vscode": {
     "languageId": "plaintext"
    }
   },
   "outputs": [],
   "source": [
    "import pandas as pd\n",
    "import os\n",
    "import matplotlib.pyplot as plt\n",
    "import seaborn as sns\n",
    "\n",
    "# Import our custom modules\n",
    "from src.data_scraper import run_data_pipeline, save_data\n",
    "from src.sentiment_analyzer import analyze_sentiment, save_processed_data\n",
    "\n",
    "# Set display options\n",
    "pd.set_option('display.max_columns', None)\n",
    "sns.set_style(\"whitegrid\")"
   ]
  },
  {
   "cell_type": "markdown",
   "id": "3bb692b7",
   "metadata": {},
   "source": [
    "2. Data Acquisition\n",
    "\n",
    "We run the core scraping function. Note: This uses mock data generation, as a real YouTube API key is required for actual scraping."
   ]
  },
  {
   "cell_type": "code",
   "execution_count": null,
   "id": "0d54898a",
   "metadata": {
    "vscode": {
     "languageId": "plaintext"
    }
   },
   "outputs": [],
   "source": [
    "# --- PARAMETERS ---\n",
    "CONTROVERSY_NAME = \"The Tarte Brand Trip Scandal\"\n",
    "RAW_FILE_NAME = \"tarte_raw_comments.csv\"\n",
    "\n",
    "# Run the data pipeline (uses mock data generated in src/data_scraper.py)\n",
    "df_raw = run_data_pipeline(CONTROVERSY_NAME)\n",
    "print(f\"Total raw comments collected: {len(df_raw)}\")\n",
    "\n",
    "# Save the raw data\n",
    "save_data(df_raw, RAW_FILE_NAME)"
   ]
  },
  {
   "cell_type": "markdown",
   "id": "07041a65",
   "metadata": {},
   "source": [
    "3. Sentiment Analysis Execution\n",
    "\n",
    "We now run the full sentiment analysis, applying both VADER and TextBlob to all comments."
   ]
  },
  {
   "cell_type": "code",
   "execution_count": null,
   "id": "bfb90897",
   "metadata": {
    "vscode": {
     "languageId": "plaintext"
    }
   },
   "outputs": [],
   "source": [
    "# Run the full sentiment analysis and cleaning pipeline\n",
    "df_processed = analyze_sentiment(df_raw.copy())\n",
    "PROCESSED_FILE_NAME = \"tarte_processed_sentiment.csv\"\n",
    "\n",
    "# Save the processed data for subsequent notebooks\n",
    "save_processed_data(df_processed, PROCESSED_FILE_NAME)\n",
    "\n",
    "print(\"\\n--- Processed Data Snapshot ---\")\n",
    "df_processed[['comment_text', 'vader_compound', 'textblob_polarity', 'textblob_subjectivity']].head()"
   ]
  },
  {
   "cell_type": "markdown",
   "id": "3056d02e",
   "metadata": {},
   "source": [
    "4. Initial Exploratory Data Analysis (EDA)\n",
    "\n",
    "A quick look at the distribution of engagement and preliminary VADER scores."
   ]
  },
  {
   "cell_type": "code",
   "execution_count": null,
   "id": "1a17e645",
   "metadata": {
    "vscode": {
     "languageId": "plaintext"
    }
   },
   "outputs": [],
   "source": [
    "# Distribution of Comment Likes (Engagement)\n",
    "plt.figure(figsize=(10, 5))\n",
    "sns.histplot(df_processed['comment_likes'], bins=50, kde=True)\n",
    "plt.title('Distribution of Comment Likes (Engagement)')\n",
    "plt.xlabel('Comment Likes')\n",
    "plt.ylabel('Count')\n",
    "plt.show()"
   ]
  },
  {
   "cell_type": "code",
   "execution_count": null,
   "id": "34ffb1c9",
   "metadata": {
    "vscode": {
     "languageId": "plaintext"
    }
   },
   "outputs": [],
   "source": [
    "# Preliminary VADER Compound Score Distribution\n",
    "plt.figure(figsize=(10, 5))\n",
    "sns.histplot(df_processed['vader_compound'], bins=30, kde=True, color='skyblue')\n",
    "plt.title('Distribution of VADER Compound Scores')\n",
    "plt.xlabel('VADER Compound Score (-1.0 to +1.0)')\n",
    "plt.ylabel('Count')\n",
    "plt.show()\n",
    "\n",
    "# Final status update\n",
    "print(f\"Data pipeline complete. Processed data ready in data/processed/{PROCESSED_FILE_NAME}\")\n"
   ]
  }
 ],
 "metadata": {
  "language_info": {
   "name": "python"
  }
 },
 "nbformat": 4,
 "nbformat_minor": 5
}
